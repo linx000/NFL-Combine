{
 "cells": [
  {
   "cell_type": "code",
   "execution_count": 25,
   "metadata": {},
   "outputs": [],
   "source": [
    "import pandas\n",
    "from bs4 import BeautifulSoup\n",
    "import requests\n",
    "import csv"
   ]
  },
  {
   "cell_type": "code",
   "execution_count": 34,
   "metadata": {},
   "outputs": [],
   "source": [
    "years = ['1987', '1988', '1999', '2000', '2001', '2002', '2003', '2004', '2005', '2006', '2007', '2008', '2009', '2010', '2011',\n",
    "         '2012', '2013', '2014', '2015', '2016', '2017', '2018', '2019', '2020']\n",
    "\n",
    "for y in years:\n",
    "    url = 'https://nflcombineresults.com/nflcombinedata.php?year={}&pos=&college='.format(y)\n",
    "    page = requests.get(url)\n",
    "    soup = BeautifulSoup(page.content, 'html.parser')\n",
    "    table = soup.find(\"table\", {\"class\": \"sortable\"})\n",
    "    trs = table.findAll(\"tr\", {\"class\" : \"tablefont\" })\n",
    "    with open('nflCombineData.csv', 'a', newline='') as csvFile:\n",
    "        writer = csv.writer(csvFile)\n",
    "#   writer.writerow(['Year','Name', 'College', 'POS', 'Height (in)','Weight (lbs)','Wonderlic', '40 Yard','Bench Press','Vert Leap (in)','Broad Jump (in)','Shuttle', '3Cone'])\n",
    "        for r in trs:\n",
    "            tds = r.findAll(\"td\")\n",
    "            writer.writerow([tds[0].text,tds[1].text,tds[2].text,tds[3].text,tds[4].text,tds[5].text,tds[6].text,tds[7].text,\n",
    "                         tds[8].text,tds[9].text,tds[10].text,tds[11].text,tds[12].text])\n",
    "\n",
    "# url = 'https://nflcombineresults.com/nflcombinedata.php?year=2020&pos=&college='\n",
    "# page = requests.get(url)\n",
    "# soup = BeautifulSoup(page.content, 'html.parser')\n",
    "# table = soup.find(\"table\", {\"class\": \"sortable\"})\n",
    "# trs = table.findAll(\"tr\", {\"class\" : \"tablefont\" })"
   ]
  },
  {
   "cell_type": "code",
   "execution_count": 32,
   "metadata": {},
   "outputs": [],
   "source": [
    "\n",
    "# with open('nflCombineData.csv', 'a', newline='') as csvFile:\n",
    "#     writer = csv.writer(csvFile)\n",
    "# #     writer.writerow(['Year','Name', 'College', 'POS', 'Height (in)','Weight (lbs)','Wonderlic', '40 Yard','Bench Press','Vert Leap (in)','Broad Jump (in)','Shuttle', '3Cone'])\n",
    "#     for r in trs:\n",
    "#         tds = r.findAll(\"td\")\n",
    "#         writer.writerow([tds[0].text,tds[1].text,tds[2].text,tds[3].text,tds[4].text,tds[5].text,tds[6].text,tds[7].text,\n",
    "#                          tds[8].text,tds[9].text,tds[10].text,tds[11].text,tds[12].text])"
   ]
  },
  {
   "cell_type": "code",
   "execution_count": null,
   "metadata": {},
   "outputs": [],
   "source": []
  }
 ],
 "metadata": {
  "kernelspec": {
   "display_name": "Python 3",
   "language": "python",
   "name": "python3"
  },
  "language_info": {
   "codemirror_mode": {
    "name": "ipython",
    "version": 3
   },
   "file_extension": ".py",
   "mimetype": "text/x-python",
   "name": "python",
   "nbconvert_exporter": "python",
   "pygments_lexer": "ipython3",
   "version": "3.7.3"
  }
 },
 "nbformat": 4,
 "nbformat_minor": 2
}
